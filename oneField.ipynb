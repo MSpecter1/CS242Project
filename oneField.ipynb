{
  "cells": [
    {
      "cell_type": "code",
      "execution_count": null,
      "metadata": {
        "id": "seWOkoT7y1gG"
      },
      "outputs": [],
      "source": [
        "import pandas as pd\n",
        "import json"
      ]
    },
    {
      "cell_type": "code",
      "execution_count": null,
      "metadata": {
        "id": "JDlEnQ4ry1gH"
      },
      "outputs": [],
      "source": [
        "filename = \"CS242 Final Combined IMDB Dataset (nulls replaced).json\"\n",
        "f = open(filename)\n",
        "data = json.load(f)"
      ]
    },
    {
      "cell_type": "code",
      "execution_count": null,
      "metadata": {
        "id": "SFOZJl42y1gJ"
      },
      "outputs": [],
      "source": [
        "index = 0\n",
        "for movie in data:\n",
        "    title = movie[\"title\"]\n",
        "    genres = movie[\"genres\"]\n",
        "\n",
        "    directors = \"\"\n",
        "    for director in movie[\"directors Names\"]:\n",
        "        if director is not None:\n",
        "            directors += (director + \",\")\n",
        "    if directors == \"\":\n",
        "        directors = \"Unknown\"\n",
        "    else:\n",
        "        directors = directors[:-1]\n",
        "\n",
        "    writers = \"\"\n",
        "    for writer in movie[\"writer Names\"]:\n",
        "        if writer is not None:\n",
        "            writers += (writer + \",\")\n",
        "    if writers == \"\":\n",
        "        writers = \"Unknown\"\n",
        "    else:\n",
        "        writers = writers[:-1]\n",
        "\n",
        "    summary = movie[\"synopsis\"]\n",
        "    if len(movie[\"synopsis\"]) > 0 :\n",
        "      movie_str = f\"The movie title is {title}. The genres are {genres}. The directors are {directors}. The writers are {writers}. {summary}\"\n",
        "    else:\n",
        "      movie_str = f\"The movie title is {title}. The genres are {genres}. The directors are {directors}. The writers are {writers}.\"\n",
        "    data[index][\"text\"] = movie_str\n",
        "    index = index+1"
      ]
    },
    {
      "cell_type": "code",
      "execution_count": null,
      "metadata": {
        "id": "RPFN8AMJy1gJ"
      },
      "outputs": [],
      "source": [
        "fileType = filename.find('.json')\n",
        "new_filename = filename[:index] + '(partB)' + filename[index:]\n",
        "with open(new_filename, 'w') as f:\n",
        "    json.dump(data, f)"
      ]
    }
  ],
  "metadata": {
    "kernelspec": {
      "display_name": "base",
      "language": "python",
      "name": "python3"
    },
    "language_info": {
      "codemirror_mode": {
        "name": "ipython",
        "version": 3
      },
      "file_extension": ".py",
      "mimetype": "text/x-python",
      "name": "python",
      "nbconvert_exporter": "python",
      "pygments_lexer": "ipython3",
      "version": "3.11.5"
    },
    "colab": {
      "provenance": []
    }
  },
  "nbformat": 4,
  "nbformat_minor": 0
}